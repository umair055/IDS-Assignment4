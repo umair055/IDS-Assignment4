{
  "cells": [
    {
      "cell_type": "markdown",
      "metadata": {
        "id": "view-in-github",
        "colab_type": "text"
      },
      "source": [
        "<a href=\"https://colab.research.google.com/github/umair055/IDS-Assignment4/blob/main/IDS_Ass4.ipynb\" target=\"_parent\"><img src=\"https://colab.research.google.com/assets/colab-badge.svg\" alt=\"Open In Colab\"/></a>"
      ]
    },
    {
      "cell_type": "code",
      "execution_count": 2,
      "metadata": {
        "id": "DIn4okmBCFF8",
        "colab": {
          "base_uri": "https://localhost:8080/"
        },
        "outputId": "b4240349-b802-4d33-8f4d-3282a43347a3"
      },
      "outputs": [
        {
          "output_type": "stream",
          "name": "stdout",
          "text": [
            "Looking in indexes: https://pypi.org/simple, https://us-python.pkg.dev/colab-wheels/public/simple/\n",
            "Collecting scikit-plot\n",
            "  Downloading scikit_plot-0.3.7-py3-none-any.whl (33 kB)\n",
            "Requirement already satisfied: scikit-learn>=0.18 in /usr/local/lib/python3.8/dist-packages (from scikit-plot) (1.0.2)\n",
            "Requirement already satisfied: scipy>=0.9 in /usr/local/lib/python3.8/dist-packages (from scikit-plot) (1.7.3)\n",
            "Requirement already satisfied: joblib>=0.10 in /usr/local/lib/python3.8/dist-packages (from scikit-plot) (1.2.0)\n",
            "Requirement already satisfied: matplotlib>=1.4.0 in /usr/local/lib/python3.8/dist-packages (from scikit-plot) (3.2.2)\n",
            "Requirement already satisfied: pyparsing!=2.0.4,!=2.1.2,!=2.1.6,>=2.0.1 in /usr/local/lib/python3.8/dist-packages (from matplotlib>=1.4.0->scikit-plot) (3.0.9)\n",
            "Requirement already satisfied: kiwisolver>=1.0.1 in /usr/local/lib/python3.8/dist-packages (from matplotlib>=1.4.0->scikit-plot) (1.4.4)\n",
            "Requirement already satisfied: numpy>=1.11 in /usr/local/lib/python3.8/dist-packages (from matplotlib>=1.4.0->scikit-plot) (1.21.6)\n",
            "Requirement already satisfied: cycler>=0.10 in /usr/local/lib/python3.8/dist-packages (from matplotlib>=1.4.0->scikit-plot) (0.11.0)\n",
            "Requirement already satisfied: python-dateutil>=2.1 in /usr/local/lib/python3.8/dist-packages (from matplotlib>=1.4.0->scikit-plot) (2.8.2)\n",
            "Requirement already satisfied: six>=1.5 in /usr/local/lib/python3.8/dist-packages (from python-dateutil>=2.1->matplotlib>=1.4.0->scikit-plot) (1.15.0)\n",
            "Requirement already satisfied: threadpoolctl>=2.0.0 in /usr/local/lib/python3.8/dist-packages (from scikit-learn>=0.18->scikit-plot) (3.1.0)\n",
            "Installing collected packages: scikit-plot\n",
            "Successfully installed scikit-plot-0.3.7\n"
          ]
        }
      ],
      "source": [
        "#install scikitplot\n",
        "!pip install scikit-plot"
      ]
    },
    {
      "cell_type": "code",
      "execution_count": 3,
      "metadata": {
        "id": "4US31COwDjSW"
      },
      "outputs": [],
      "source": [
        "#import libraries\n",
        "from sklearn import preprocessing\n",
        "import pandas as pd\n",
        "\n",
        "#import different ML classifiers\n",
        "from sklearn.naive_bayes import GaussianNB, BernoulliNB, MultinomialNB\n",
        "from sklearn.svm import SVC, LinearSVC\n",
        "from sklearn.tree import DecisionTreeClassifier\n",
        "from sklearn.ensemble import RandomForestClassifier\n",
        "from sklearn.neural_network import MLPClassifier\n",
        "\n",
        "#import ML evaluation metrics\n",
        "from sklearn.metrics import accuracy_score, f1_score\n",
        "from sklearn.model_selection import train_test_split\n",
        "from sklearn import metrics, model_selection\n",
        "from sklearn.model_selection import ShuffleSplit,cross_val_score,LeavePOut,cross_val_predict\n",
        "from sklearn.datasets import load_iris\n",
        "\n",
        "#import scikitplot to plot confusion matrix\n",
        "import scikitplot as skplt"
      ]
    },
    {
      "cell_type": "code",
      "execution_count": 4,
      "metadata": {
        "id": "aIaKquIODohZ"
      },
      "outputs": [],
      "source": [
        "#Loading Dataset in dataframe\n",
        "df_gender = pd.read_csv('gender-prediction.csv')\n"
      ]
    },
    {
      "cell_type": "code",
      "execution_count": 5,
      "metadata": {
        "id": "KOqN7o90D0GL"
      },
      "outputs": [],
      "source": [
        "#Slpitting input and output attributes\n",
        "x = df_gender.drop('gender', axis=1)\n",
        "y = df_gender['gender']"
      ]
    },
    {
      "cell_type": "code",
      "execution_count": 6,
      "metadata": {
        "id": "I2hVRGUnEY1R"
      },
      "outputs": [],
      "source": [
        "#Encoding inputs and outputs which are categorical\n",
        "labels = preprocessing.LabelEncoder()\n",
        "beard_encoded = labels.fit_transform(x['beard'])\n",
        "hairLength_encoded = labels.fit_transform(x['hair_length'])\n",
        "scarf_encoded = labels.fit_transform(x['scarf'])\n",
        "eyeColor_encoded = labels.fit_transform(x['eye_color'])\n",
        "y_encoded = labels.fit_transform(y)\n",
        "x_encoded = list(zip(x['height'],x['weight'],beard_encoded,hairLength_encoded,x['shoe_size'],scarf_encoded,eyeColor_encoded))"
      ]
    },
    {
      "cell_type": "code",
      "execution_count": 7,
      "metadata": {
        "id": "UApPcdEhGcrC"
      },
      "outputs": [],
      "source": [
        "#Train test split of data in 67-33 ratio\n",
        "X_train, x_test, Y_train, y_test = train_test_split(x_encoded, y_encoded, test_size = 0.33, random_state = 2)"
      ]
    },
    {
      "cell_type": "code",
      "execution_count": 8,
      "metadata": {
        "colab": {
          "base_uri": "https://localhost:8080/"
        },
        "id": "QTnn5Y2XGjeS",
        "outputId": "193f99cb-5105-45ef-96a7-871dfae2d403"
      },
      "outputs": [
        {
          "output_type": "execute_result",
          "data": {
            "text/plain": [
              "100.0"
            ]
          },
          "metadata": {},
          "execution_count": 8
        }
      ],
      "source": [
        "#Training and testing Random Forrest\n",
        "model=RandomForestClassifier()\n",
        "model.fit(X_train,Y_train)\n",
        "prediction = model.predict(x_test)\n",
        "model_acc = accuracy_score(y_test, prediction)*100\n",
        "model_acc"
      ]
    },
    {
      "cell_type": "code",
      "execution_count": 9,
      "metadata": {
        "colab": {
          "base_uri": "https://localhost:8080/"
        },
        "id": "i4klOCG0HDZ9",
        "outputId": "d4b937b6-0ff5-4461-d5f0-b1b6ad6deb31"
      },
      "outputs": [
        {
          "output_type": "stream",
          "name": "stdout",
          "text": [
            "[[10  0]\n",
            " [ 0 17]]\n"
          ]
        }
      ],
      "source": [
        "# Confusion Matrix for Random Forrest\n",
        "model_cm = metrics.confusion_matrix(y_test, prediction)\n",
        "print(model_cm)"
      ]
    },
    {
      "cell_type": "code",
      "execution_count": 10,
      "metadata": {
        "colab": {
          "base_uri": "https://localhost:8080/"
        },
        "id": "VScQqE6EG1_Q",
        "outputId": "43fa8f4c-e8bb-4f71-c79c-654af85056df"
      },
      "outputs": [
        {
          "output_type": "execute_result",
          "data": {
            "text/plain": [
              "77.77777777777779"
            ]
          },
          "metadata": {},
          "execution_count": 10
        }
      ],
      "source": [
        "#Training and testing SVC\n",
        "model=SVC()\n",
        "model.fit(X_train,Y_train)\n",
        "prediction = model.predict(x_test)\n",
        "model_acc = accuracy_score(y_test, prediction)*100\n",
        "model_acc"
      ]
    },
    {
      "cell_type": "code",
      "execution_count": 11,
      "metadata": {
        "colab": {
          "base_uri": "https://localhost:8080/"
        },
        "id": "XWha4hkCHIdh",
        "outputId": "cdcddbb7-616c-459b-d41e-4490aaf32139"
      },
      "outputs": [
        {
          "output_type": "stream",
          "name": "stdout",
          "text": [
            "[[ 7  3]\n",
            " [ 3 14]]\n"
          ]
        }
      ],
      "source": [
        "# Confusion Matrix for SVC\n",
        "model_cm = metrics.confusion_matrix(y_test, prediction)\n",
        "print(model_cm)"
      ]
    },
    {
      "cell_type": "code",
      "execution_count": 12,
      "metadata": {
        "colab": {
          "base_uri": "https://localhost:8080/"
        },
        "id": "A0AQOzING5iS",
        "outputId": "28e042b9-142b-4619-b632-81254c46e262"
      },
      "outputs": [
        {
          "output_type": "stream",
          "name": "stderr",
          "text": [
            "/usr/local/lib/python3.8/dist-packages/sklearn/svm/_base.py:1206: ConvergenceWarning: Liblinear failed to converge, increase the number of iterations.\n",
            "  warnings.warn(\n"
          ]
        },
        {
          "output_type": "execute_result",
          "data": {
            "text/plain": [
              "88.88888888888889"
            ]
          },
          "metadata": {},
          "execution_count": 12
        }
      ],
      "source": [
        "#Training and testing LinearSVC\n",
        "model=LinearSVC()\n",
        "model.fit(X_train,Y_train)\n",
        "prediction = model.predict(x_test)\n",
        "model_acc = accuracy_score(y_test, prediction)*100\n",
        "model_acc"
      ]
    },
    {
      "cell_type": "code",
      "execution_count": 13,
      "metadata": {
        "colab": {
          "base_uri": "https://localhost:8080/"
        },
        "id": "OoVAlOF1HJ8C",
        "outputId": "1c2c3d28-5dc7-47eb-d943-215e71b7e651"
      },
      "outputs": [
        {
          "output_type": "stream",
          "name": "stdout",
          "text": [
            "[[10  0]\n",
            " [ 3 14]]\n"
          ]
        }
      ],
      "source": [
        "# Confusion Matrix for LinearSVC\n",
        "model_cm = metrics.confusion_matrix(y_test, prediction)\n",
        "print(model_cm)"
      ]
    },
    {
      "cell_type": "code",
      "execution_count": 14,
      "metadata": {
        "colab": {
          "base_uri": "https://localhost:8080/"
        },
        "id": "WYclIcNtG9el",
        "outputId": "12ff5874-8fd8-47d0-ae68-f16f7fd9c07c"
      },
      "outputs": [
        {
          "output_type": "stream",
          "name": "stderr",
          "text": [
            "/usr/local/lib/python3.8/dist-packages/sklearn/neural_network/_multilayer_perceptron.py:692: ConvergenceWarning: Stochastic Optimizer: Maximum iterations (200) reached and the optimization hasn't converged yet.\n",
            "  warnings.warn(\n"
          ]
        },
        {
          "output_type": "execute_result",
          "data": {
            "text/plain": [
              "88.88888888888889"
            ]
          },
          "metadata": {},
          "execution_count": 14
        }
      ],
      "source": [
        "#Training and testing Multilayer Perceptron\n",
        "model=MLPClassifier()\n",
        "model.fit(X_train,Y_train)\n",
        "prediction = model.predict(x_test)\n",
        "model_acc = accuracy_score(y_test, prediction)*100\n",
        "model_acc"
      ]
    },
    {
      "cell_type": "code",
      "execution_count": 15,
      "metadata": {
        "colab": {
          "base_uri": "https://localhost:8080/"
        },
        "id": "pDcKgUEqHLEE",
        "outputId": "574767d4-1714-4755-afdc-43e53aec1f6e"
      },
      "outputs": [
        {
          "output_type": "stream",
          "name": "stdout",
          "text": [
            "[[ 9  1]\n",
            " [ 2 15]]\n"
          ]
        }
      ],
      "source": [
        "# Confusion Matrix for Multilayer Perceptron\n",
        "model_cm = metrics.confusion_matrix(y_test, prediction)\n",
        "print(model_cm)"
      ]
    },
    {
      "cell_type": "code",
      "execution_count": 16,
      "metadata": {
        "id": "e6-LkyeAHMid"
      },
      "outputs": [],
      "source": [
        "#Train Test Ratio of 80 20\n",
        "X_train, x_test, Y_train, y_test = train_test_split(x_encoded, y_encoded, test_size = 0.20, random_state = 2)"
      ]
    },
    {
      "cell_type": "markdown",
      "source": [
        "# Runnig Random Forrest, SVC, LinearSVC and Multilayer Perceptron on 80 20 Data split\n"
      ],
      "metadata": {
        "id": "51p3jBt_B4it"
      }
    },
    {
      "cell_type": "code",
      "execution_count": 17,
      "metadata": {
        "colab": {
          "base_uri": "https://localhost:8080/"
        },
        "id": "-397koxsHRqh",
        "outputId": "8e6bef0f-1645-40a3-cd5e-0d800f0e19e8"
      },
      "outputs": [
        {
          "output_type": "execute_result",
          "data": {
            "text/plain": [
              "100.0"
            ]
          },
          "metadata": {},
          "execution_count": 17
        }
      ],
      "source": [
        "model=RandomForestClassifier()\n",
        "model.fit(X_train,Y_train)\n",
        "prediction = model.predict(x_test)\n",
        "model_acc = accuracy_score(y_test, prediction)*100\n",
        "model_acc"
      ]
    },
    {
      "cell_type": "code",
      "execution_count": 18,
      "metadata": {
        "colab": {
          "base_uri": "https://localhost:8080/"
        },
        "id": "bvJsGmN0HW4x",
        "outputId": "e61b3b1b-c583-46c7-9501-fb8f1dd1bb6d"
      },
      "outputs": [
        {
          "output_type": "execute_result",
          "data": {
            "text/plain": [
              "81.25"
            ]
          },
          "metadata": {},
          "execution_count": 18
        }
      ],
      "source": [
        "model=SVC()\n",
        "model.fit(X_train,Y_train)\n",
        "prediction = model.predict(x_test)\n",
        "model_acc = accuracy_score(y_test, prediction)*100\n",
        "model_acc"
      ]
    },
    {
      "cell_type": "code",
      "execution_count": 19,
      "metadata": {
        "colab": {
          "base_uri": "https://localhost:8080/"
        },
        "id": "uLr_VprDHZkh",
        "outputId": "5eac2c98-fbed-4742-a655-9c7f03387a02"
      },
      "outputs": [
        {
          "output_type": "stream",
          "name": "stderr",
          "text": [
            "/usr/local/lib/python3.8/dist-packages/sklearn/svm/_base.py:1206: ConvergenceWarning: Liblinear failed to converge, increase the number of iterations.\n",
            "  warnings.warn(\n"
          ]
        },
        {
          "output_type": "execute_result",
          "data": {
            "text/plain": [
              "100.0"
            ]
          },
          "metadata": {},
          "execution_count": 19
        }
      ],
      "source": [
        "model=LinearSVC()\n",
        "model.fit(X_train,Y_train)\n",
        "prediction = model.predict(x_test)\n",
        "model_acc = accuracy_score(y_test, prediction)*100\n",
        "model_acc"
      ]
    },
    {
      "cell_type": "code",
      "execution_count": 20,
      "metadata": {
        "colab": {
          "base_uri": "https://localhost:8080/"
        },
        "id": "V3vLwts6Hdn4",
        "outputId": "fc9000d4-c574-465f-e716-b65a57ac5bb6"
      },
      "outputs": [
        {
          "output_type": "stream",
          "name": "stderr",
          "text": [
            "/usr/local/lib/python3.8/dist-packages/sklearn/neural_network/_multilayer_perceptron.py:692: ConvergenceWarning: Stochastic Optimizer: Maximum iterations (200) reached and the optimization hasn't converged yet.\n",
            "  warnings.warn(\n"
          ]
        },
        {
          "output_type": "execute_result",
          "data": {
            "text/plain": [
              "100.0"
            ]
          },
          "metadata": {},
          "execution_count": 20
        }
      ],
      "source": [
        "model=MLPClassifier()\n",
        "model.fit(X_train,Y_train)\n",
        "prediction = model.predict(x_test)\n",
        "model_acc = accuracy_score(y_test, prediction)*100\n",
        "model_acc"
      ]
    },
    {
      "cell_type": "markdown",
      "source": [
        "# Runnig Random Forrest, SVC, LinearSVC and Multilayer Perceptron on 80 20 Data split after excluding powerful attributes that are beard and scarf"
      ],
      "metadata": {
        "id": "5yLx_2kmCNPA"
      }
    },
    {
      "cell_type": "code",
      "execution_count": 21,
      "metadata": {
        "id": "RyifopSHHsR1"
      },
      "outputs": [],
      "source": [
        "#Droppin beard and scarf column\n",
        "x = df_gender.drop(['scarf','beard','gender'], axis=1)\n",
        "labels = preprocessing.LabelEncoder()\n",
        "hairLength_encoded = labels.fit_transform(x['hair_length'])\n",
        "eyeColor_encoded = labels.fit_transform(x['eye_color'])\n",
        "x_encodedNew = list(zip(x['height'],x['weight'],hairLength_encoded,x['shoe_size'],eyeColor_encoded))\n"
      ]
    },
    {
      "cell_type": "code",
      "execution_count": 22,
      "metadata": {
        "id": "-Suht0VNI-JJ"
      },
      "outputs": [],
      "source": [
        "X_train, x_test, Y_train, y_test = train_test_split(x_encodedNew, y_encoded, test_size = 0.20, random_state = 2)"
      ]
    },
    {
      "cell_type": "code",
      "execution_count": 23,
      "metadata": {
        "id": "h-Sq7pT8I-JL",
        "colab": {
          "base_uri": "https://localhost:8080/"
        },
        "outputId": "8fe6859e-e03f-4e33-cdf7-9a5717ba8af6"
      },
      "outputs": [
        {
          "output_type": "execute_result",
          "data": {
            "text/plain": [
              "100.0"
            ]
          },
          "metadata": {},
          "execution_count": 23
        }
      ],
      "source": [
        "model=RandomForestClassifier()\n",
        "model.fit(X_train,Y_train)\n",
        "prediction = model.predict(x_test)\n",
        "model_acc = accuracy_score(y_test, prediction)*100\n",
        "model_acc\n"
      ]
    },
    {
      "cell_type": "code",
      "execution_count": 24,
      "metadata": {
        "colab": {
          "base_uri": "https://localhost:8080/"
        },
        "id": "80T9JWJ_I-JM",
        "outputId": "a2edec71-7f38-4903-c207-6e041ffcda3c"
      },
      "outputs": [
        {
          "output_type": "execute_result",
          "data": {
            "text/plain": [
              "81.25"
            ]
          },
          "metadata": {},
          "execution_count": 24
        }
      ],
      "source": [
        "model=SVC()\n",
        "model.fit(X_train,Y_train)\n",
        "prediction = model.predict(x_test)\n",
        "model_acc = accuracy_score(y_test, prediction)*100\n",
        "model_acc"
      ]
    },
    {
      "cell_type": "code",
      "execution_count": 25,
      "metadata": {
        "colab": {
          "base_uri": "https://localhost:8080/"
        },
        "id": "tuHeV1q7I-JN",
        "outputId": "eb02fd01-661d-410c-e065-a8bcf79fe193"
      },
      "outputs": [
        {
          "output_type": "stream",
          "name": "stderr",
          "text": [
            "/usr/local/lib/python3.8/dist-packages/sklearn/svm/_base.py:1206: ConvergenceWarning: Liblinear failed to converge, increase the number of iterations.\n",
            "  warnings.warn(\n"
          ]
        },
        {
          "output_type": "execute_result",
          "data": {
            "text/plain": [
              "93.75"
            ]
          },
          "metadata": {},
          "execution_count": 25
        }
      ],
      "source": [
        "model=LinearSVC()\n",
        "model.fit(X_train,Y_train)\n",
        "prediction = model.predict(x_test)\n",
        "model_acc = accuracy_score(y_test, prediction)*100\n",
        "model_acc"
      ]
    },
    {
      "cell_type": "code",
      "execution_count": 26,
      "metadata": {
        "colab": {
          "base_uri": "https://localhost:8080/"
        },
        "id": "gHVu_yd1I-JO",
        "outputId": "b78e7383-3d4f-4fca-cc06-ea1221914a68"
      },
      "outputs": [
        {
          "output_type": "stream",
          "name": "stderr",
          "text": [
            "/usr/local/lib/python3.8/dist-packages/sklearn/neural_network/_multilayer_perceptron.py:692: ConvergenceWarning: Stochastic Optimizer: Maximum iterations (200) reached and the optimization hasn't converged yet.\n",
            "  warnings.warn(\n"
          ]
        },
        {
          "output_type": "execute_result",
          "data": {
            "text/plain": [
              "100.0"
            ]
          },
          "metadata": {},
          "execution_count": 26
        }
      ],
      "source": [
        "model=MLPClassifier()\n",
        "model.fit(X_train,Y_train)\n",
        "prediction = model.predict(x_test)\n",
        "model_acc = accuracy_score(y_test, prediction)*100\n",
        "model_acc"
      ]
    },
    {
      "cell_type": "markdown",
      "source": [
        "# Application of Decision Tree with Monte Carlo Corss Validation and Leave P-Out Cross Validation"
      ],
      "metadata": {
        "id": "slTZXY2iCfih"
      }
    },
    {
      "cell_type": "code",
      "execution_count": 27,
      "metadata": {
        "colab": {
          "base_uri": "https://localhost:8080/"
        },
        "id": "WZQG4vcyK3Hv",
        "outputId": "f262ad3d-a111-4f4b-8006-b8d70157ebdd"
      },
      "outputs": [
        {
          "output_type": "execute_result",
          "data": {
            "text/plain": [
              "96.7019471756314"
            ]
          },
          "metadata": {},
          "execution_count": 27
        }
      ],
      "source": [
        "#With Monte Carlo Cross Validation\n",
        "model=DecisionTreeClassifier()\n",
        "shuffle_split=ShuffleSplit(test_size=0.2,train_size=0.8,n_splits=10)\n",
        "prediction = cross_val_score(model, x_encoded, y_encoded,scoring='f1',cv=shuffle_split)\n",
        "prediction.mean()*100"
      ]
    },
    {
      "cell_type": "code",
      "execution_count": null,
      "metadata": {
        "id": "TrHHsC5d8mdt"
      },
      "outputs": [],
      "source": [
        "#With Lave P-Out Cross Validation \n",
        "lpo=LeavePOut(p=2)\n",
        "lpo.get_n_splits(x_encoded)\n",
        "score=cross_val_score(model,x_encoded, y_encoded,scoring='f1',cv=lpo)\n",
        "score.mean()"
      ]
    },
    {
      "cell_type": "code",
      "execution_count": null,
      "metadata": {
        "id": "_OB8uM0HI4O2"
      },
      "outputs": [],
      "source": [
        "#Reading New CSV file for new data set with 5 instances added for testing\n",
        "df_genderNew = pd.read_csv('gender-predictionCopy.csv')\n",
        "df_genderNew"
      ]
    },
    {
      "cell_type": "code",
      "source": [
        "#Seperating Input and Output Attributes\n",
        "x = df_genderNew.drop('gender', axis=1)\n",
        "y = df_genderNew['gender']"
      ],
      "metadata": {
        "id": "xbZf7o6px23J"
      },
      "execution_count": 31,
      "outputs": []
    },
    {
      "cell_type": "code",
      "source": [
        "#Seperating last 5 added instances for testing and other 80 for training.\n",
        "x_test=x.iloc[-5:]\n",
        "x_train=x.iloc[:80]\n",
        "y_test=y.iloc[-5:]\n",
        "y_train=y.iloc[:80]"
      ],
      "metadata": {
        "id": "KhjhBMBMy_Rn"
      },
      "execution_count": 33,
      "outputs": []
    },
    {
      "cell_type": "code",
      "source": [
        "#Encoding categorical attributes in train and test data\n",
        "labels = preprocessing.LabelEncoder()\n",
        "beard_encodedTest = labels.fit_transform(x_test['beard'])\n",
        "beard_encodedTrain = labels.fit_transform(x_train['beard'])\n",
        "hairLength_encodedTest = labels.fit_transform(x_test['hair_length'])\n",
        "hairLength_encodedTrain = labels.fit_transform(x_train['hair_length'])\n",
        "scarf_encodedTest = labels.fit_transform(x_test['scarf'])\n",
        "scarf_encodedTrain = labels.fit_transform(x_train['scarf'])\n",
        "eyeColor_encodedTest = labels.fit_transform(x_test['eye_color'])\n",
        "eyeColor_encodedTrain = labels.fit_transform(x_train['eye_color'])\n",
        "y_encodedTest = labels.fit_transform(y_test)\n",
        "y_encodedTrain = labels.fit_transform(y_train)\n",
        "x_encodedTest = list(zip(x_test['height'],x_test['weight'],beard_encodedTest,hairLength_encodedTest,x_test['shoe_size'],scarf_encodedTest,eyeColor_encodedTest))\n",
        "x_encodedTrain = list(zip(x_train['height'],x_train['weight'],beard_encodedTrain,hairLength_encodedTrain,x_train['shoe_size'],scarf_encodedTrain,eyeColor_encodedTrain))\n"
      ],
      "metadata": {
        "id": "bEj8SNqLx_Oc"
      },
      "execution_count": 34,
      "outputs": []
    },
    {
      "cell_type": "code",
      "source": [
        "#Training and Testiing new data on Gaussian Naive Bayes\n",
        "model=GaussianNB()\n",
        "model.fit(x_encodedTrain,y_encodedTrain)\n",
        "prediction = model.predict(x_encodedTest)\n",
        "model_acc = accuracy_score(y_encodedTest, prediction)*100\n",
        "model_cl_rep=metrics.classification_report(y_encodedTest, prediction)\n",
        "print(model_cl_rep)\n"
      ],
      "metadata": {
        "colab": {
          "base_uri": "https://localhost:8080/"
        },
        "id": "JRpvlQM5vgXn",
        "outputId": "44db951b-40db-4990-84b7-023a03e03ec6"
      },
      "execution_count": 35,
      "outputs": [
        {
          "output_type": "stream",
          "name": "stdout",
          "text": [
            "              precision    recall  f1-score   support\n",
            "\n",
            "           0       1.00      1.00      1.00         3\n",
            "           1       1.00      1.00      1.00         2\n",
            "\n",
            "    accuracy                           1.00         5\n",
            "   macro avg       1.00      1.00      1.00         5\n",
            "weighted avg       1.00      1.00      1.00         5\n",
            "\n"
          ]
        }
      ]
    }
  ],
  "metadata": {
    "colab": {
      "provenance": [],
      "authorship_tag": "ABX9TyN7l4z8QHZOwJ6819PyyGms",
      "include_colab_link": true
    },
    "kernelspec": {
      "display_name": "Python 3",
      "name": "python3"
    },
    "language_info": {
      "name": "python"
    }
  },
  "nbformat": 4,
  "nbformat_minor": 0
}