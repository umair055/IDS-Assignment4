{
  "cells": [
    {
      "cell_type": "markdown",
      "metadata": {
        "id": "view-in-github",
        "colab_type": "text"
      },
      "source": [
        "<a href=\"https://colab.research.google.com/github/umair055/IDS-Assignment4/blob/main/IDS_Ass4.ipynb\" target=\"_parent\"><img src=\"https://colab.research.google.com/assets/colab-badge.svg\" alt=\"Open In Colab\"/></a>"
      ]
    },
    {
      "cell_type": "code",
      "execution_count": null,
      "metadata": {
        "id": "DIn4okmBCFF8"
      },
      "outputs": [],
      "source": [
        "#install scikitplot\n",
        "!pip install scikit-plot"
      ]
    },
    {
      "cell_type": "code",
      "execution_count": 2,
      "metadata": {
        "id": "4US31COwDjSW"
      },
      "outputs": [],
      "source": [
        "#import libraries\n",
        "from sklearn import preprocessing\n",
        "import pandas as pd\n",
        "\n",
        "#import different ML classifiers\n",
        "from sklearn.naive_bayes import GaussianNB, BernoulliNB, MultinomialNB\n",
        "from sklearn.svm import SVC, LinearSVC\n",
        "from sklearn.tree import DecisionTreeClassifier\n",
        "from sklearn.ensemble import RandomForestClassifier\n",
        "from sklearn.neural_network import MLPClassifier\n",
        "\n",
        "#import ML evaluation metrics\n",
        "from sklearn.metrics import accuracy_score, f1_score\n",
        "from sklearn.model_selection import train_test_split\n",
        "from sklearn import metrics, model_selection\n",
        "from sklearn.model_selection import ShuffleSplit,cross_val_score,LeavePOut,cross_val_predict\n",
        "from sklearn.datasets import load_iris\n",
        "\n",
        "#import scikitplot to plot confusion matrix\n",
        "import scikitplot as skplt"
      ]
    },
    {
      "cell_type": "code",
      "execution_count": 123,
      "metadata": {
        "colab": {
          "base_uri": "https://localhost:8080/"
        },
        "id": "aIaKquIODohZ",
        "outputId": "09b84408-c438-4263-bcff-9286c73fd791"
      },
      "outputs": [
        {
          "output_type": "stream",
          "name": "stdout",
          "text": [
            "0      True\n",
            "1      True\n",
            "2     False\n",
            "3     False\n",
            "4      True\n",
            "      ...  \n",
            "75    False\n",
            "76    False\n",
            "77     True\n",
            "78     True\n",
            "79    False\n",
            "Name: gender, Length: 80, dtype: bool\n"
          ]
        }
      ],
      "source": [
        "#Loading Dataset in dataframe\n",
        "df_gender = pd.read_csv('gender-prediction.csv')\n",
        "print(df_gender['gender']=='male')"
      ]
    },
    {
      "cell_type": "code",
      "execution_count": 78,
      "metadata": {
        "id": "KOqN7o90D0GL"
      },
      "outputs": [],
      "source": [
        "#Slpitting input and output attributes\n",
        "x = df_gender.drop('gender', axis=1)\n",
        "y = df_gender['gender']"
      ]
    },
    {
      "cell_type": "code",
      "execution_count": 79,
      "metadata": {
        "id": "I2hVRGUnEY1R"
      },
      "outputs": [],
      "source": [
        "#Encoding inputs and outputs which are categorical\n",
        "labels = preprocessing.LabelEncoder()\n",
        "beard_encoded = labels.fit_transform(x['beard'])\n",
        "hairLength_encoded = labels.fit_transform(x['hair_length'])\n",
        "scarf_encoded = labels.fit_transform(x['scarf'])\n",
        "eyeColor_encoded = labels.fit_transform(x['eye_color'])\n",
        "y_encoded = labels.fit_transform(y)\n",
        "x_encoded = list(zip(x['height'],x['weight'],beard_encoded,hairLength_encoded,x['shoe_size'],scarf_encoded,eyeColor_encoded))"
      ]
    },
    {
      "cell_type": "code",
      "execution_count": 80,
      "metadata": {
        "id": "UApPcdEhGcrC"
      },
      "outputs": [],
      "source": [
        "#Train test split of data in 67-33 ratio\n",
        "X_train, x_test, Y_train, y_test = train_test_split(x_encoded, y_encoded, test_size = 0.33, random_state = 2)"
      ]
    },
    {
      "cell_type": "code",
      "execution_count": 81,
      "metadata": {
        "colab": {
          "base_uri": "https://localhost:8080/"
        },
        "id": "QTnn5Y2XGjeS",
        "outputId": "f55ac3eb-b85c-4d9a-d7ad-f3ad414c70ae"
      },
      "outputs": [
        {
          "output_type": "execute_result",
          "data": {
            "text/plain": [
              "100.0"
            ]
          },
          "metadata": {},
          "execution_count": 81
        }
      ],
      "source": [
        "#Training and testing Random Forrest\n",
        "model=RandomForestClassifier()\n",
        "model.fit(X_train,Y_train)\n",
        "prediction = model.predict(x_test)\n",
        "model_acc = accuracy_score(y_test, prediction)*100\n",
        "model_acc"
      ]
    },
    {
      "cell_type": "code",
      "execution_count": 82,
      "metadata": {
        "colab": {
          "base_uri": "https://localhost:8080/"
        },
        "id": "i4klOCG0HDZ9",
        "outputId": "d3c0dcfd-028a-4070-b277-9a815c85e347"
      },
      "outputs": [
        {
          "output_type": "stream",
          "name": "stdout",
          "text": [
            "[[10  0]\n",
            " [ 0 17]]\n"
          ]
        }
      ],
      "source": [
        "# Confusion Matrix for Random Forrest\n",
        "model_cm = metrics.confusion_matrix(y_test, prediction)\n",
        "print(model_cm)"
      ]
    },
    {
      "cell_type": "code",
      "execution_count": 84,
      "metadata": {
        "colab": {
          "base_uri": "https://localhost:8080/"
        },
        "id": "VScQqE6EG1_Q",
        "outputId": "d1017fff-9881-453a-b785-162d9d52adb1"
      },
      "outputs": [
        {
          "output_type": "execute_result",
          "data": {
            "text/plain": [
              "77.77777777777779"
            ]
          },
          "metadata": {},
          "execution_count": 84
        }
      ],
      "source": [
        "#Training and testing SVC\n",
        "model=SVC()\n",
        "model.fit(X_train,Y_train)\n",
        "prediction = model.predict(x_test)\n",
        "model_acc = accuracy_score(y_test, prediction)*100\n",
        "model_acc"
      ]
    },
    {
      "cell_type": "code",
      "execution_count": 85,
      "metadata": {
        "colab": {
          "base_uri": "https://localhost:8080/"
        },
        "id": "XWha4hkCHIdh",
        "outputId": "7be43498-6c0b-4fd8-92d6-88ef5a1702a9"
      },
      "outputs": [
        {
          "output_type": "stream",
          "name": "stdout",
          "text": [
            "[[ 7  3]\n",
            " [ 3 14]]\n"
          ]
        }
      ],
      "source": [
        "# Confusion Matrix for SVC\n",
        "model_cm = metrics.confusion_matrix(y_test, prediction)\n",
        "print(model_cm)"
      ]
    },
    {
      "cell_type": "code",
      "execution_count": 89,
      "metadata": {
        "colab": {
          "base_uri": "https://localhost:8080/"
        },
        "id": "A0AQOzING5iS",
        "outputId": "9dedf2fe-366e-4575-ca21-6abf6c121e01"
      },
      "outputs": [
        {
          "output_type": "stream",
          "name": "stderr",
          "text": [
            "/usr/local/lib/python3.8/dist-packages/sklearn/svm/_base.py:1206: ConvergenceWarning: Liblinear failed to converge, increase the number of iterations.\n",
            "  warnings.warn(\n"
          ]
        },
        {
          "output_type": "execute_result",
          "data": {
            "text/plain": [
              "92.5925925925926"
            ]
          },
          "metadata": {},
          "execution_count": 89
        }
      ],
      "source": [
        "#Training and testing LinearSVC\n",
        "model=LinearSVC()\n",
        "model.fit(X_train,Y_train)\n",
        "prediction = model.predict(x_test)\n",
        "model_acc = accuracy_score(y_test, prediction)*100\n",
        "model_acc"
      ]
    },
    {
      "cell_type": "code",
      "execution_count": 90,
      "metadata": {
        "colab": {
          "base_uri": "https://localhost:8080/"
        },
        "id": "OoVAlOF1HJ8C",
        "outputId": "06024e60-4960-456e-c710-fff9b9651102"
      },
      "outputs": [
        {
          "output_type": "stream",
          "name": "stdout",
          "text": [
            "[[ 9  1]\n",
            " [ 1 16]]\n"
          ]
        }
      ],
      "source": [
        "# Confusion Matrix for LinearSVC\n",
        "model_cm = metrics.confusion_matrix(y_test, prediction)\n",
        "print(model_cm)"
      ]
    },
    {
      "cell_type": "code",
      "execution_count": 91,
      "metadata": {
        "colab": {
          "base_uri": "https://localhost:8080/"
        },
        "id": "WYclIcNtG9el",
        "outputId": "cedf8f41-fc97-4a0d-c3d4-2a208b7de549"
      },
      "outputs": [
        {
          "output_type": "stream",
          "name": "stderr",
          "text": [
            "/usr/local/lib/python3.8/dist-packages/sklearn/neural_network/_multilayer_perceptron.py:692: ConvergenceWarning: Stochastic Optimizer: Maximum iterations (200) reached and the optimization hasn't converged yet.\n",
            "  warnings.warn(\n"
          ]
        },
        {
          "output_type": "execute_result",
          "data": {
            "text/plain": [
              "88.88888888888889"
            ]
          },
          "metadata": {},
          "execution_count": 91
        }
      ],
      "source": [
        "#Training and testing Multilayer Perceptron\n",
        "model=MLPClassifier()\n",
        "model.fit(X_train,Y_train)\n",
        "prediction = model.predict(x_test)\n",
        "model_acc = accuracy_score(y_test, prediction)*100\n",
        "model_acc"
      ]
    },
    {
      "cell_type": "code",
      "execution_count": 92,
      "metadata": {
        "colab": {
          "base_uri": "https://localhost:8080/"
        },
        "id": "pDcKgUEqHLEE",
        "outputId": "76c835f9-2688-4108-a259-f3fb0e872efe"
      },
      "outputs": [
        {
          "output_type": "stream",
          "name": "stdout",
          "text": [
            "[[ 9  1]\n",
            " [ 2 15]]\n"
          ]
        }
      ],
      "source": [
        "# Confusion Matrix for Multilayer Perceptron\n",
        "model_cm = metrics.confusion_matrix(y_test, prediction)\n",
        "print(model_cm)"
      ]
    },
    {
      "cell_type": "code",
      "execution_count": 93,
      "metadata": {
        "id": "e6-LkyeAHMid"
      },
      "outputs": [],
      "source": [
        "#Train Test Ratio of 80 20\n",
        "X_train, x_test, Y_train, y_test = train_test_split(x_encoded, y_encoded, test_size = 0.20, random_state = 2)"
      ]
    },
    {
      "cell_type": "markdown",
      "source": [
        "# Runnig Random Forrest, SVC, LinearSVC and Multilayer Perceptron on 80 20 Data split\n"
      ],
      "metadata": {
        "id": "51p3jBt_B4it"
      }
    },
    {
      "cell_type": "code",
      "execution_count": 94,
      "metadata": {
        "colab": {
          "base_uri": "https://localhost:8080/"
        },
        "id": "-397koxsHRqh",
        "outputId": "f31ba1df-fa52-493c-d72f-2ae6dd934cd4"
      },
      "outputs": [
        {
          "output_type": "execute_result",
          "data": {
            "text/plain": [
              "100.0"
            ]
          },
          "metadata": {},
          "execution_count": 94
        }
      ],
      "source": [
        "model=RandomForestClassifier()\n",
        "model.fit(X_train,Y_train)\n",
        "prediction = model.predict(x_test)\n",
        "model_acc = accuracy_score(y_test, prediction)*100\n",
        "model_acc"
      ]
    },
    {
      "cell_type": "code",
      "execution_count": 95,
      "metadata": {
        "colab": {
          "base_uri": "https://localhost:8080/"
        },
        "id": "bvJsGmN0HW4x",
        "outputId": "a976e0c5-b58d-4838-dc74-5b4e716b22fb"
      },
      "outputs": [
        {
          "output_type": "execute_result",
          "data": {
            "text/plain": [
              "81.25"
            ]
          },
          "metadata": {},
          "execution_count": 95
        }
      ],
      "source": [
        "model=SVC()\n",
        "model.fit(X_train,Y_train)\n",
        "prediction = model.predict(x_test)\n",
        "model_acc = accuracy_score(y_test, prediction)*100\n",
        "model_acc"
      ]
    },
    {
      "cell_type": "code",
      "execution_count": 98,
      "metadata": {
        "colab": {
          "base_uri": "https://localhost:8080/"
        },
        "id": "uLr_VprDHZkh",
        "outputId": "1307f1e6-69b9-4e01-f25a-03326dc8195f"
      },
      "outputs": [
        {
          "output_type": "stream",
          "name": "stderr",
          "text": [
            "/usr/local/lib/python3.8/dist-packages/sklearn/svm/_base.py:1206: ConvergenceWarning: Liblinear failed to converge, increase the number of iterations.\n",
            "  warnings.warn(\n"
          ]
        },
        {
          "output_type": "execute_result",
          "data": {
            "text/plain": [
              "100.0"
            ]
          },
          "metadata": {},
          "execution_count": 98
        }
      ],
      "source": [
        "model=LinearSVC()\n",
        "model.fit(X_train,Y_train)\n",
        "prediction = model.predict(x_test)\n",
        "model_acc = accuracy_score(y_test, prediction)*100\n",
        "model_acc"
      ]
    },
    {
      "cell_type": "code",
      "execution_count": 100,
      "metadata": {
        "colab": {
          "base_uri": "https://localhost:8080/"
        },
        "id": "V3vLwts6Hdn4",
        "outputId": "7f82ab06-58e3-4d05-9d30-ccacd40b8eca"
      },
      "outputs": [
        {
          "output_type": "stream",
          "name": "stderr",
          "text": [
            "/usr/local/lib/python3.8/dist-packages/sklearn/neural_network/_multilayer_perceptron.py:692: ConvergenceWarning: Stochastic Optimizer: Maximum iterations (200) reached and the optimization hasn't converged yet.\n",
            "  warnings.warn(\n"
          ]
        },
        {
          "output_type": "execute_result",
          "data": {
            "text/plain": [
              "100.0"
            ]
          },
          "metadata": {},
          "execution_count": 100
        }
      ],
      "source": [
        "model=MLPClassifier()\n",
        "model.fit(X_train,Y_train)\n",
        "prediction = model.predict(x_test)\n",
        "model_acc = accuracy_score(y_test, prediction)*100\n",
        "model_acc"
      ]
    },
    {
      "cell_type": "markdown",
      "source": [
        "# Runnig Random Forrest, SVC, LinearSVC and Multilayer Perceptron on 80 20 Data split after excluding powerful attributes that are beard and scarf"
      ],
      "metadata": {
        "id": "5yLx_2kmCNPA"
      }
    },
    {
      "cell_type": "code",
      "execution_count": 101,
      "metadata": {
        "id": "RyifopSHHsR1"
      },
      "outputs": [],
      "source": [
        "#Droppin beard and scarf column\n",
        "x = df_gender.drop(['scarf','beard','gender'], axis=1)\n",
        "labels = preprocessing.LabelEncoder()\n",
        "hairLength_encoded = labels.fit_transform(x['hair_length'])\n",
        "eyeColor_encoded = labels.fit_transform(x['eye_color'])\n",
        "x_encodedNew = list(zip(x['height'],x['weight'],hairLength_encoded,x['shoe_size'],eyeColor_encoded))\n"
      ]
    },
    {
      "cell_type": "code",
      "execution_count": 102,
      "metadata": {
        "id": "-Suht0VNI-JJ"
      },
      "outputs": [],
      "source": [
        "X_train, x_test, Y_train, y_test = train_test_split(x_encodedNew, y_encoded, test_size = 0.20, random_state = 2)"
      ]
    },
    {
      "cell_type": "code",
      "execution_count": 106,
      "metadata": {
        "id": "h-Sq7pT8I-JL",
        "colab": {
          "base_uri": "https://localhost:8080/"
        },
        "outputId": "355dc60a-2369-4749-ced8-818b80711184"
      },
      "outputs": [
        {
          "output_type": "execute_result",
          "data": {
            "text/plain": [
              "93.75"
            ]
          },
          "metadata": {},
          "execution_count": 106
        }
      ],
      "source": [
        "model=RandomForestClassifier()\n",
        "model.fit(X_train,Y_train)\n",
        "prediction = model.predict(x_test)\n",
        "model_acc = accuracy_score(y_test, prediction)*100\n",
        "model_acc\n"
      ]
    },
    {
      "cell_type": "code",
      "execution_count": 104,
      "metadata": {
        "colab": {
          "base_uri": "https://localhost:8080/"
        },
        "id": "80T9JWJ_I-JM",
        "outputId": "4abe0cdb-8c13-49d6-c343-c8e5a102f638"
      },
      "outputs": [
        {
          "output_type": "execute_result",
          "data": {
            "text/plain": [
              "81.25"
            ]
          },
          "metadata": {},
          "execution_count": 104
        }
      ],
      "source": [
        "model=SVC()\n",
        "model.fit(X_train,Y_train)\n",
        "prediction = model.predict(x_test)\n",
        "model_acc = accuracy_score(y_test, prediction)*100\n",
        "model_acc"
      ]
    },
    {
      "cell_type": "code",
      "execution_count": 108,
      "metadata": {
        "colab": {
          "base_uri": "https://localhost:8080/"
        },
        "id": "tuHeV1q7I-JN",
        "outputId": "1f144920-0b5b-4699-8b6c-e748f91e2105"
      },
      "outputs": [
        {
          "output_type": "stream",
          "name": "stderr",
          "text": [
            "/usr/local/lib/python3.8/dist-packages/sklearn/svm/_base.py:1206: ConvergenceWarning: Liblinear failed to converge, increase the number of iterations.\n",
            "  warnings.warn(\n"
          ]
        },
        {
          "output_type": "execute_result",
          "data": {
            "text/plain": [
              "93.75"
            ]
          },
          "metadata": {},
          "execution_count": 108
        }
      ],
      "source": [
        "model=LinearSVC()\n",
        "model.fit(X_train,Y_train)\n",
        "prediction = model.predict(x_test)\n",
        "model_acc = accuracy_score(y_test, prediction)*100\n",
        "model_acc"
      ]
    },
    {
      "cell_type": "code",
      "execution_count": 110,
      "metadata": {
        "colab": {
          "base_uri": "https://localhost:8080/"
        },
        "id": "gHVu_yd1I-JO",
        "outputId": "40e1cd63-4ced-416f-a4c9-9593afeda73d"
      },
      "outputs": [
        {
          "output_type": "execute_result",
          "data": {
            "text/plain": [
              "62.5"
            ]
          },
          "metadata": {},
          "execution_count": 110
        }
      ],
      "source": [
        "model=MLPClassifier()\n",
        "model.fit(X_train,Y_train)\n",
        "prediction = model.predict(x_test)\n",
        "model_acc = accuracy_score(y_test, prediction)*100\n",
        "model_acc"
      ]
    },
    {
      "cell_type": "markdown",
      "source": [
        "# Application of Decision Tree with Monte Carlo Corss Validation and Leave P-Out Cross Validation"
      ],
      "metadata": {
        "id": "slTZXY2iCfih"
      }
    },
    {
      "cell_type": "code",
      "execution_count": 114,
      "metadata": {
        "colab": {
          "base_uri": "https://localhost:8080/"
        },
        "id": "WZQG4vcyK3Hv",
        "outputId": "db8be0c5-dc71-4d47-bac1-81608a5a4530"
      },
      "outputs": [
        {
          "output_type": "execute_result",
          "data": {
            "text/plain": [
              "95.60679278992646"
            ]
          },
          "metadata": {},
          "execution_count": 114
        }
      ],
      "source": [
        "#With Monte Carlo Cross Validation\n",
        "model=DecisionTreeClassifier()\n",
        "shuffle_split=ShuffleSplit(test_size=0.2,train_size=0.8,n_splits=10)\n",
        "prediction = cross_val_score(model, x_encoded, y_encoded,scoring='f1',cv=shuffle_split)\n",
        "prediction.mean()*100"
      ]
    },
    {
      "cell_type": "code",
      "execution_count": null,
      "metadata": {
        "id": "TrHHsC5d8mdt"
      },
      "outputs": [],
      "source": [
        "#With Lave P-Out Cross Validation \n",
        "lpo=LeavePOut(p=2)\n",
        "lpo.get_n_splits(x_encoded)\n",
        "score=cross_val_score(model,x_encoded, y_encoded,scoring='f1',cv=lpo)\n",
        "score.mean()"
      ]
    },
    {
      "cell_type": "code",
      "execution_count": null,
      "metadata": {
        "id": "_OB8uM0HI4O2"
      },
      "outputs": [],
      "source": [
        "#Reading New CSV file for new data set with 5 instances added for testing\n",
        "df_genderNew = pd.read_csv('gender-predictionCopy.csv')\n",
        "df_genderNew"
      ]
    },
    {
      "cell_type": "code",
      "source": [
        "#Seperating Input and Output Attributes\n",
        "x = df_genderNew.drop('gender', axis=1)\n",
        "y = df_genderNew['gender']"
      ],
      "metadata": {
        "id": "xbZf7o6px23J"
      },
      "execution_count": 118,
      "outputs": []
    },
    {
      "cell_type": "code",
      "source": [
        "#Seperating last 5 added instances for testing and other 80 for training.\n",
        "x_test=x.iloc[-5:]\n",
        "x_train=x.iloc[:80]\n",
        "y_test=y.iloc[-5:]\n",
        "y_train=y.iloc[:80]\n",
        "y_test"
      ],
      "metadata": {
        "colab": {
          "base_uri": "https://localhost:8080/"
        },
        "id": "KhjhBMBMy_Rn",
        "outputId": "fd8415b4-97b1-43f8-f6f7-7b2b19401a16"
      },
      "execution_count": 120,
      "outputs": [
        {
          "output_type": "execute_result",
          "data": {
            "text/plain": [
              "80    female\n",
              "81      male\n",
              "82      male\n",
              "83    female\n",
              "84    female\n",
              "Name: gender, dtype: object"
            ]
          },
          "metadata": {},
          "execution_count": 120
        }
      ]
    },
    {
      "cell_type": "code",
      "source": [
        "#Encoding categorical attributes in train and test data\n",
        "labels = preprocessing.LabelEncoder()\n",
        "beard_encodedTest = labels.fit_transform(x_test['beard'])\n",
        "beard_encodedTrain = labels.fit_transform(x_train['beard'])\n",
        "hairLength_encodedTest = labels.fit_transform(x_test['hair_length'])\n",
        "hairLength_encodedTrain = labels.fit_transform(x_train['hair_length'])\n",
        "scarf_encodedTest = labels.fit_transform(x_test['scarf'])\n",
        "scarf_encodedTrain = labels.fit_transform(x_train['scarf'])\n",
        "eyeColor_encodedTest = labels.fit_transform(x_test['eye_color'])\n",
        "eyeColor_encodedTrain = labels.fit_transform(x_train['eye_color'])\n",
        "y_encodedTest = labels.fit_transform(y_test)\n",
        "y_encodedTrain = labels.fit_transform(y_train)\n",
        "x_encodedTest = list(zip(x_test['height'],x_test['weight'],beard_encodedTest,hairLength_encodedTest,x_test['shoe_size'],scarf_encodedTest,eyeColor_encodedTest))\n",
        "x_encodedTrain = list(zip(x_train['height'],x_train['weight'],beard_encodedTrain,hairLength_encodedTrain,x_train['shoe_size'],scarf_encodedTrain,eyeColor_encodedTrain))\n",
        "y_encodedTest"
      ],
      "metadata": {
        "colab": {
          "base_uri": "https://localhost:8080/"
        },
        "id": "bEj8SNqLx_Oc",
        "outputId": "7e70528b-41b3-45b4-999e-7f7f8ea7cc9d"
      },
      "execution_count": 121,
      "outputs": [
        {
          "output_type": "execute_result",
          "data": {
            "text/plain": [
              "array([0, 1, 1, 0, 0])"
            ]
          },
          "metadata": {},
          "execution_count": 121
        }
      ]
    },
    {
      "cell_type": "code",
      "source": [
        "#Training and Testiing new data on Gaussian Naive Bayes\n",
        "model=GaussianNB()\n",
        "model.fit(x_encodedTrain,y_encodedTrain)\n",
        "prediction = model.predict(x_encodedTest)\n",
        "model_acc = accuracy_score(y_encodedTest, prediction)*100\n",
        "model_cl_rep=metrics.classification_report(y_encodedTest, prediction)\n",
        "print(model_cl_rep)\n"
      ],
      "metadata": {
        "colab": {
          "base_uri": "https://localhost:8080/"
        },
        "id": "JRpvlQM5vgXn",
        "outputId": "1644c066-f15d-4a8d-bdc6-e15c0bfe21ad"
      },
      "execution_count": 124,
      "outputs": [
        {
          "output_type": "stream",
          "name": "stdout",
          "text": [
            "              precision    recall  f1-score   support\n",
            "\n",
            "           0       1.00      1.00      1.00         3\n",
            "           1       1.00      1.00      1.00         2\n",
            "\n",
            "    accuracy                           1.00         5\n",
            "   macro avg       1.00      1.00      1.00         5\n",
            "weighted avg       1.00      1.00      1.00         5\n",
            "\n"
          ]
        }
      ]
    }
  ],
  "metadata": {
    "colab": {
      "provenance": [],
      "authorship_tag": "ABX9TyNXKnDES5HV44cr/cY9HCST",
      "include_colab_link": true
    },
    "kernelspec": {
      "display_name": "Python 3",
      "name": "python3"
    },
    "language_info": {
      "name": "python"
    }
  },
  "nbformat": 4,
  "nbformat_minor": 0
}